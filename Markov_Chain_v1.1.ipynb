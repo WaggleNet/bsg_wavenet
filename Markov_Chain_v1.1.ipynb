{
 "cells": [
  {
   "cell_type": "code",
   "execution_count": 1,
   "metadata": {},
   "outputs": [],
   "source": [
    "import scipy\n",
    "import matplotlib.pyplot as plt\n",
    "from scipy import signal\n",
    "from scipy.io import wavfile\n",
    "import numpy as np\n",
    "from librosa.core import resample"
   ]
  },
  {
   "cell_type": "code",
   "execution_count": 4,
   "metadata": {},
   "outputs": [
    {
     "data": {
      "image/png": "[encoded data removed]",
      "text/plain": [
       "<Figure size 432x288 with 1 Axes>"
      ]
     },
     "metadata": {
      "needs_background": "light"
     },
     "output_type": "display_data"
    }
   ],
   "source": [
    "sample_rate, samples = wavfile.read('audio_mixed.wav')\n",
    "samples_casted = samples / (2.**15) \n",
    "seg_len = sample_rate/40 #25ms\n",
    "overlap = seg_len*0.6  #60% overlap\n",
    "f, t, Zxx = signal.stft(samples_casted, fs = sample_rate, nperseg = seg_len, noverlap = overlap)\n",
    "Zxx_abs = np.abs(Zxx)\n",
    "output = Zxx\n",
    "from sklearn.decomposition import PCA\n",
    "pca = PCA().fit(output.real)\n",
    "plt.plot(np.cumsum(pca.explained_variance_ratio_))\n",
    "plt.xlabel('number of components')\n",
    "plt.ylabel('cumulative explained variance');\n",
    "plt.show()"
   ]
  },
  {
   "cell_type": "code",
   "execution_count": 5,
   "metadata": {},
   "outputs": [
    {
     "name": "stdout",
     "output_type": "stream",
     "text": [
      "[-2.1025123e-06 -4.6801779e-07  1.5155710e-07 -2.4543237e-08\n",
      " -2.3933922e-07 -1.7972582e-07 -2.3834650e-07  2.3879713e-07\n",
      " -1.2641335e-07 -1.4912732e-07  2.1383606e-07  3.4190180e-08\n",
      "  5.5361816e-08  1.1230981e-07 -3.7223877e-08 -4.4636610e-09\n",
      " -2.6338247e-07 -1.2069472e-07  2.7332983e-09  1.8669969e-07\n",
      " -5.7835152e-08 -6.0743666e-08 -8.3887919e-08 -8.5076358e-08\n",
      " -8.1773521e-08 -1.0795893e-07 -1.4695250e-08 -4.3828322e-08\n",
      " -5.6560436e-09 -1.4024403e-08] \n",
      " (23947, 30)\n",
      "0.9387716772034764\n"
     ]
    }
   ],
   "source": [
    "#choose n = 30 for PCA\n",
    "output_real = np.abs(output.transpose())\n",
    "# print(output_real)\n",
    "pca = PCA(n_components = 30, svd_solver='full')\n",
    "audio_pca = pca.fit_transform(output_real)\n",
    "print(audio_pca[0], '\\n', audio_pca.shape)\n",
    "print(sum(pca.explained_variance_ratio_))"
   ]
  },
  {
   "cell_type": "code",
   "execution_count": 7,
   "metadata": {},
   "outputs": [],
   "source": [
    "from sklearn.cluster import KMeans\n",
    "from sklearn import metrics\n",
    "from scipy.spatial.distance import cdist\n",
    "kmeans = KMeans(n_clusters=10, random_state=0).fit(audio_pca)"
   ]
  },
  {
   "cell_type": "code",
   "execution_count": 8,
   "metadata": {},
   "outputs": [
    {
     "name": "stdout",
     "output_type": "stream",
     "text": [
      "[1 8 1 ... 4 0 1] \n",
      " 23947 \n",
      " [[ 1.64060123e-06  5.04202603e-07 -2.19607529e-07 -9.49175103e-08\n",
      "  -7.18067028e-08  8.97104613e-08 -1.11241629e-08 -5.07088460e-09\n",
      "  -2.45237803e-08 -1.75529244e-08  2.63942859e-08 -1.37560763e-08\n",
      "   6.36858744e-09 -1.13803234e-08 -1.52412216e-08 -3.91562294e-09\n",
      "  -4.01106970e-09  6.46317710e-09  5.93358562e-09  4.81234963e-09\n",
      "   4.01539024e-10 -3.18533311e-09  2.41473574e-09  7.37259942e-09\n",
      "   5.09432274e-10 -2.55334864e-09 -4.78541917e-09 -1.07624221e-09\n",
      "   4.40816361e-09  2.08589146e-09]\n",
      " [-9.74126806e-07 -3.82831644e-07  2.25048780e-08 -4.70628763e-08\n",
      "  -1.33030611e-07  7.79818077e-09 -5.58646907e-09  6.24334673e-09\n",
      "  -9.72213154e-09 -1.07466480e-08 -5.08088016e-09  1.05636155e-09\n",
      "  -2.14204254e-09  9.38568334e-09 -6.09444761e-09 -5.36814726e-09\n",
      "  -1.00009123e-09 -2.91839952e-09 -2.91278157e-09  2.87398993e-09\n",
      "   3.27990279e-09  1.90920169e-09  4.01914235e-09 -1.22049348e-09\n",
      "  -2.71791234e-09 -3.27581562e-09 -1.68772840e-09  2.20968377e-09\n",
      "   2.08646012e-09  1.23791188e-09]\n",
      " [ 1.88940271e-06 -1.03284174e-06  1.48695690e-07  2.05000447e-07\n",
      "  -8.78107329e-08  1.67193814e-08 -1.44744785e-08  4.86623497e-09\n",
      "   1.12593002e-08 -5.07086746e-08  6.25951024e-09 -2.88322544e-09\n",
      "   9.43740908e-09 -4.48113602e-10  1.41282843e-08 -1.76835407e-10\n",
      "   3.36793815e-09 -5.99346839e-09 -1.13335812e-08 -3.39441808e-09\n",
      "   9.52969526e-09  3.43055007e-09  4.11116419e-10 -9.38605527e-10\n",
      "  -1.08784253e-08 -4.48138593e-09  7.69089237e-09  7.55942775e-09\n",
      "   5.33969180e-09  1.90642480e-09]\n",
      " [ 2.36760627e-07  5.27800921e-07  9.82093184e-07 -6.88995954e-08\n",
      "   3.32238159e-07 -3.89786862e-07  4.30876526e-08  1.40519738e-08\n",
      "  -4.69638763e-08 -7.70226123e-08 -4.43139250e-08 -1.58784241e-09\n",
      "  -1.79393300e-08  3.71128408e-08  1.30476066e-08 -2.21675300e-08\n",
      "   8.75257755e-10  1.86550757e-08  3.24854632e-09 -9.97054084e-09\n",
      "  -1.12633254e-08  7.67589103e-09 -1.01143725e-08 -4.54524862e-09\n",
      "   6.95507829e-09  1.50878532e-09  3.06686720e-09  4.67550398e-09\n",
      "  -1.76772241e-09  6.47328413e-09]\n",
      " [ 5.14899682e-07  1.72828186e-06 -1.56477071e-07 -1.00936674e-07\n",
      "  -1.50855527e-07  1.21613382e-07 -1.71716046e-08  7.40386641e-10\n",
      "   1.93124272e-08  4.54749731e-08  2.15474705e-09  7.09457604e-09\n",
      "  -3.37024186e-09 -1.17708066e-10  8.24948820e-09  8.30810176e-09\n",
      "   3.47416185e-09 -1.37182035e-08 -4.77565854e-09  1.72866130e-08\n",
      "   2.98430591e-09 -4.68495420e-09  5.37666667e-09 -2.12722839e-10\n",
      "  -4.02843492e-09  3.72675757e-09  7.06903813e-10 -4.31884484e-09\n",
      "   7.86833543e-10  2.99770181e-10]\n",
      " [-4.15734434e-07  2.22378151e-08  2.96847617e-07  2.28886833e-07\n",
      "   7.11807274e-07  4.43277173e-07 -1.25673807e-07 -1.81774578e-08\n",
      "   1.92429379e-08  2.91962721e-08  3.78553047e-08  2.20581287e-09\n",
      "   1.99967207e-08 -2.03270627e-08  2.26231700e-09  1.86095193e-08\n",
      "   1.28299984e-08 -7.59020313e-09 -5.53450175e-10  5.61888447e-09\n",
      "  -1.21808941e-09 -7.26542604e-10  1.38318379e-09  2.18703877e-09\n",
      "   1.02713182e-09  2.29293295e-09  1.97705785e-09  5.53010926e-09\n",
      "  -3.89880173e-09 -4.64897010e-09]\n",
      " [ 3.10748135e-07 -6.83313885e-07 -3.29131524e-07 -4.32863004e-07\n",
      "   1.73463846e-07 -6.75203609e-08  2.45455567e-08  4.09734635e-10\n",
      "   2.99343728e-09  3.52952156e-08 -1.43496048e-10  3.69420072e-09\n",
      "  -2.12466067e-09  7.48014806e-09 -2.48293636e-10  8.66082692e-11\n",
      "   1.75695014e-10 -1.16158938e-09  5.11245402e-09 -4.70809480e-09\n",
      "  -3.93931776e-09  9.22452226e-10 -2.44128562e-09 -2.37973952e-09\n",
      "   7.18794269e-09  4.47552617e-09  1.30036315e-09 -8.89011620e-09\n",
      "  -4.80867568e-10 -4.13312184e-09]\n",
      " [ 2.91941888e-07 -5.23583878e-07  2.74484506e-07  4.16467088e-07\n",
      "  -2.86099521e-07  2.77275394e-08  6.57328636e-09  9.61214131e-09\n",
      "   5.45572831e-09  2.30292017e-08 -2.97079339e-08  1.65910361e-08\n",
      "  -1.31420315e-08 -6.56523236e-09  1.20282495e-08  3.38167716e-09\n",
      "   7.30300087e-09 -1.48226775e-09 -2.63111022e-09  5.75478287e-09\n",
      "  -2.70600675e-09 -6.00648065e-09 -1.09163567e-09  1.22297883e-09\n",
      "   2.29202901e-09  2.30694255e-10 -2.84365065e-09 -9.81154380e-10\n",
      "  -5.66018699e-09 -1.86526394e-09]\n",
      " [-3.45342045e-07  3.77883595e-07 -7.61205740e-07  3.40483325e-07\n",
      "   1.12284923e-07 -1.75461722e-07  3.25121228e-08 -6.84398582e-09\n",
      "  -1.27064093e-08 -3.48817260e-08 -2.18758989e-09 -4.05435768e-10\n",
      "   1.79609982e-09 -4.54545068e-09 -4.10321421e-09 -1.76710646e-10\n",
      "  -7.49551443e-09  5.14641618e-09  2.15180074e-09 -1.16766739e-08\n",
      "  -4.30913216e-09  5.87757576e-09 -2.25062324e-09 -5.59218405e-09\n",
      "  -3.28826211e-09 -2.05319894e-09  2.19802621e-09 -2.70535566e-10\n",
      "  -3.92956467e-09  1.38821413e-10]\n",
      " [-4.37271751e-07  5.47851016e-07  1.64973059e-07 -2.32362794e-07\n",
      "  -2.59687965e-07  4.34656648e-08  1.61154752e-08 -1.02760351e-08\n",
      "   3.30360557e-08  2.56854769e-08  2.29728432e-08 -1.58431686e-08\n",
      "   8.79942075e-09 -1.61317466e-08 -7.42950679e-09  5.56365398e-09\n",
      "  -7.23138260e-09  2.43974396e-09  2.31389818e-09 -1.21211907e-09\n",
      "   6.48767884e-09 -5.48920376e-09 -1.22213212e-10  6.51531851e-09\n",
      "  -4.91332253e-10  1.56691593e-09 -1.99432515e-09  5.65891167e-10\n",
      "   4.13448920e-09  1.01467201e-09]]\n",
      "{0: array([   36,    40,    83, ..., 23912, 23926, 23945], dtype=int64), 1: array([    0,     2,     3, ..., 23939, 23943, 23946], dtype=int64), 2: array([   24,    53,    55, ..., 23905, 23909, 23927], dtype=int64), 3: array([   32,    42,    43, ..., 23933, 23940, 23942], dtype=int64), 4: array([   31,    37,    39, ..., 23877, 23882, 23944], dtype=int64), 5: array([   91,   100,   101, ..., 23919, 23920, 23934], dtype=int64), 6: array([   17,    22,    26, ..., 23936, 23937, 23941], dtype=int64), 7: array([   12,    13,    14, ..., 23864, 23876, 23891], dtype=int64), 8: array([    1,     4,     7, ..., 23904, 23911, 23929], dtype=int64), 9: array([    5,    11,    15, ..., 23880, 23883, 23892], dtype=int64)} \n",
      " {0: array([[ 8.5147428e-07,  5.7033634e-07, -3.4650279e-07, ...,\n",
      "         6.6501350e-08,  1.2307285e-07, -1.6801316e-08],\n",
      "       [ 1.3506711e-06,  6.5940173e-07, -1.4224789e-06, ...,\n",
      "         2.0634216e-07,  1.8327265e-07, -5.0664397e-08],\n",
      "       [ 6.7919240e-07,  4.7272252e-07, -2.9832933e-07, ...,\n",
      "         1.9980849e-08,  3.4970721e-08,  2.1576722e-07],\n",
      "       ...,\n",
      "       [ 1.1367664e-06,  7.9955703e-07,  1.6739163e-07, ...,\n",
      "         1.1866497e-07, -1.0586986e-07, -7.9160444e-08],\n",
      "       [ 1.5981624e-06,  1.1889626e-07,  5.1461079e-08, ...,\n",
      "        -1.8058643e-07, -2.7728804e-08, -1.2465308e-07],\n",
      "       [ 6.9659473e-07,  3.0258235e-07, -1.3657086e-07, ...,\n",
      "         1.7792689e-07, -2.1107371e-07, -5.5789691e-08]], dtype=float32), 1: array([[-2.1025123e-06, -4.6801779e-07,  1.5155710e-07, ...,\n",
      "        -4.3828322e-08, -5.6560436e-09, -1.4024403e-08],\n",
      "       [-3.9293764e-07, -7.3607652e-07, -1.8982524e-07, ...,\n",
      "         3.0175894e-07,  7.3640692e-08, -3.9581117e-08],\n",
      "       [-1.1679869e-06,  1.1457835e-07, -1.4398464e-07, ...,\n",
      "         2.2588672e-07,  8.2519392e-08,  8.0874003e-08],\n",
      "       ...,\n",
      "       [-8.1450230e-07, -4.9233819e-07,  2.2251498e-07, ...,\n",
      "        -8.3776499e-08, -8.3553992e-08, -7.1356801e-08],\n",
      "       [-1.1925567e-06,  8.3729105e-08, -1.5982096e-07, ...,\n",
      "        -6.8544530e-08,  9.8534414e-08, -1.4927825e-07],\n",
      "       [-7.7271318e-07, -1.3857301e-07, -4.2038916e-08, ...,\n",
      "         1.6547709e-07, -5.6090567e-08,  7.1614970e-08]], dtype=float32), 2: array([[ 2.10962503e-06, -2.00977055e-07,  6.29249655e-07, ...,\n",
      "         1.39919756e-08, -7.26848128e-08, -1.47769669e-07],\n",
      "       [ 1.05095978e-06, -1.27398187e-06, -7.61726682e-08, ...,\n",
      "        -2.21761070e-07,  4.10855279e-08, -1.67721282e-07],\n",
      "       [ 1.77153117e-06, -1.78086157e-06,  3.01194916e-07, ...,\n",
      "        -2.19829531e-07,  1.43156711e-07,  6.96056190e-08],\n",
      "       ...,\n",
      "       [ 1.59746912e-06, -6.26643498e-07, -4.40854961e-07, ...,\n",
      "        -3.66464459e-09, -3.61353791e-08, -1.18504538e-07],\n",
      "       [ 3.67736607e-06, -1.95101347e-06,  7.92958474e-07, ...,\n",
      "         1.97022885e-07,  1.23335568e-07, -1.01889135e-07],\n",
      "       [ 2.23511984e-06, -1.75483069e-06, -9.12105691e-07, ...,\n",
      "        -4.66004515e-08, -7.81447582e-08,  7.00669034e-08]], dtype=float32), 3: array([[ 1.0406725e-07,  5.1559027e-07,  1.0177500e-06, ...,\n",
      "        -5.7750448e-08, -2.8857613e-07, -2.3505159e-08],\n",
      "       [-7.6658161e-08,  4.1381350e-07,  8.1099211e-07, ...,\n",
      "         1.4701098e-07, -3.3934064e-08, -3.1330373e-08],\n",
      "       [ 6.8890381e-07, -5.6811846e-08,  3.7464949e-07, ...,\n",
      "         2.9258706e-07,  1.7264719e-08,  9.5982003e-08],\n",
      "       ...,\n",
      "       [-2.0077290e-07,  1.0968223e-06,  7.7282101e-07, ...,\n",
      "         4.3877954e-08, -1.4738447e-08, -2.7980080e-08],\n",
      "       [ 2.5785269e-07,  2.9749626e-07, -2.4597794e-08, ...,\n",
      "         2.8546205e-07,  4.5956241e-08,  7.7211865e-08],\n",
      "       [-1.8271689e-07,  5.3234203e-07,  4.6313477e-07, ...,\n",
      "         8.7481837e-08,  1.6757858e-07,  8.4722707e-08]], dtype=float32), 4: array([[ 5.0122037e-07,  2.9205687e-06, -6.2757442e-07, ...,\n",
      "         6.4490422e-08, -5.1053881e-08, -2.8152833e-08],\n",
      "       [ 4.5544834e-07,  1.9934234e-06,  1.4760084e-07, ...,\n",
      "        -6.9247626e-08, -6.0732695e-08, -1.0162837e-07],\n",
      "       [ 1.8299398e-06,  3.0998153e-06, -1.9411041e-06, ...,\n",
      "         7.7863938e-08, -3.3551444e-08,  1.4077543e-07],\n",
      "       ...,\n",
      "       [ 3.9179488e-07,  1.1267120e-06,  2.4744477e-07, ...,\n",
      "         5.7663875e-08, -9.5946810e-08, -5.0468078e-08],\n",
      "       [ 9.3509880e-07,  1.1598810e-06, -2.2192241e-07, ...,\n",
      "        -8.3896499e-09, -1.7277610e-08,  1.7099468e-07],\n",
      "       [ 3.1261618e-07,  1.3783766e-06,  2.6741534e-07, ...,\n",
      "         4.2613880e-08,  2.0551883e-07, -7.4599875e-08]], dtype=float32), 5: array([[ 9.56390380e-08,  7.26476117e-07,  6.39846689e-07, ...,\n",
      "        -5.03095237e-08,  7.36854266e-09,  3.56245749e-07],\n",
      "       [-1.53155526e-07, -2.00324322e-07,  6.14717862e-07, ...,\n",
      "        -8.97297170e-08, -1.75141821e-08, -8.59375859e-09],\n",
      "       [ 6.81248764e-08, -3.97980983e-07,  9.27022370e-07, ...,\n",
      "        -9.15471432e-09, -1.25964362e-07, -2.15166274e-10],\n",
      "       ...,\n",
      "       [ 4.40842847e-08, -1.47044190e-07,  1.56394015e-06, ...,\n",
      "         1.19218299e-07, -1.70466503e-08,  1.71010385e-07],\n",
      "       [ 2.70570411e-07, -1.15677096e-06,  6.35280628e-07, ...,\n",
      "        -2.30219953e-07, -2.21557400e-07,  1.12140754e-07],\n",
      "       [ 3.27615396e-07,  3.50509424e-07,  4.39853416e-08, ...,\n",
      "        -1.28843709e-07, -2.93197161e-07,  2.42610440e-07]], dtype=float32), 6: array([[-2.53335998e-07, -2.48333322e-07, -3.94660560e-07, ...,\n",
      "         3.12222390e-08,  1.01090265e-07, -1.74556817e-07],\n",
      "       [ 2.42079892e-07, -2.02393707e-07,  2.71439916e-07, ...,\n",
      "         1.51775037e-08, -3.36190773e-08,  1.17281651e-07],\n",
      "       [ 6.91362274e-08, -5.02594389e-07, -4.08814827e-07, ...,\n",
      "        -1.35693085e-07, -1.04724492e-07, -2.94059447e-07],\n",
      "       ...,\n",
      "       [ 8.91023788e-08, -5.51273956e-07,  1.41351009e-07, ...,\n",
      "        -6.54894237e-08,  4.96253563e-08, -4.14695407e-08],\n",
      "       [-4.07491484e-07, -9.38198866e-07, -4.08659275e-07, ...,\n",
      "        -1.29081073e-07,  3.46592834e-08, -1.50917359e-07],\n",
      "       [ 6.08898631e-07,  1.67985903e-07, -1.15730494e-07, ...,\n",
      "        -1.16588119e-07,  6.88236597e-08,  1.89793585e-08]], dtype=float32), 7: array([[ 7.5172420e-07,  3.4051379e-07, -3.8367993e-08, ...,\n",
      "        -1.4073916e-07, -3.0502201e-07,  1.6846972e-09],\n",
      "       [-3.5064505e-07, -4.2717377e-07,  3.1863735e-07, ...,\n",
      "        -3.0033206e-08, -1.3110845e-07, -6.5134287e-08],\n",
      "       [-3.3511094e-07, -9.8091243e-07,  1.4786923e-07, ...,\n",
      "         1.5711980e-07,  1.5370470e-07, -8.8285070e-08],\n",
      "       ...,\n",
      "       [ 3.5870664e-07, -4.5930304e-07,  8.5623475e-07, ...,\n",
      "         1.9201404e-07, -1.1037864e-08,  7.4730814e-08],\n",
      "       [ 8.3822789e-07, -3.0129482e-07, -1.9037508e-07, ...,\n",
      "         1.3498746e-07, -9.4348884e-08,  1.2531571e-07],\n",
      "       [-1.6219541e-07, -5.1929641e-07,  3.9372683e-08, ...,\n",
      "         1.1671295e-07, -7.1617457e-08, -8.1040618e-08]], dtype=float32), 8: array([[-6.61520517e-07,  3.39907373e-08, -6.30537329e-07, ...,\n",
      "        -1.41930897e-07,  2.07370789e-07,  9.18740639e-08],\n",
      "       [-4.38649778e-07,  6.00014687e-07, -3.25401544e-07, ...,\n",
      "         3.97758271e-08,  3.61300039e-07,  1.17602887e-07],\n",
      "       [-5.24770940e-07, -6.45462137e-08, -3.99281674e-07, ...,\n",
      "         7.13794464e-08,  3.46985075e-07, -1.27288160e-07],\n",
      "       ...,\n",
      "       [ 1.03683294e-06,  3.17654809e-07, -1.66077780e-06, ...,\n",
      "         7.22691518e-10,  2.04579749e-08,  7.13226385e-08],\n",
      "       [-5.34806020e-07,  1.00476848e-06, -3.78171841e-08, ...,\n",
      "         1.14714197e-07,  1.56375904e-07, -7.81261775e-08],\n",
      "       [ 1.65287574e-07,  4.29234120e-07, -2.81174692e-07, ...,\n",
      "         1.17806984e-07,  5.97055205e-08, -8.22927149e-08]], dtype=float32), 9: array([[-3.6629316e-07,  9.8467308e-07,  6.4153916e-08, ...,\n",
      "         1.2093417e-07, -6.9506214e-09,  4.6131312e-08],\n",
      "       [-2.5901900e-07,  1.6006286e-08, -1.9413801e-07, ...,\n",
      "         1.1349739e-07, -1.1154266e-07, -5.1965724e-08],\n",
      "       [-7.9033168e-07,  6.9469064e-07, -3.9145153e-08, ...,\n",
      "        -6.3036616e-08, -9.6483944e-08, -4.6105988e-08],\n",
      "       ...,\n",
      "       [-6.0517146e-07,  5.4574224e-07,  1.6259277e-07, ...,\n",
      "         2.4811450e-07,  6.4636389e-08,  5.1436149e-09],\n",
      "       [-2.9444718e-07, -1.5908660e-07,  6.7469091e-07, ...,\n",
      "         4.1976499e-08, -4.8823168e-08,  8.6970736e-08],\n",
      "       [-3.3813129e-07,  3.4710514e-09,  3.1198331e-07, ...,\n",
      "        -9.1129237e-08,  5.7905616e-08, -9.7135256e-08]], dtype=float32)} \n",
      " {0: 1184, 1: 4256, 2: 216, 3: 1179, 4: 832, 5: 821, 6: 2026, 7: 408, 8: 1311, 9: 2541}\n"
     ]
    }
   ],
   "source": [
    "labels_k = kmeans.labels_\n",
    "print(labels_k, '\\n', len(labels_k), '\\n', kmeans.cluster_centers_)\n",
    "centers = kmeans.cluster_centers_\n",
    "indices = {i: np.where(kmeans.labels_ == i)[0] for i in range(kmeans.n_clusters)}\n",
    "points = {i: audio_pca[np.where(kmeans.labels_ == i)] for i in range(kmeans.n_clusters)}\n",
    "min_indices = {}\n",
    "for i in range(kmeans.n_clusters):\n",
    "    distances = [np.linalg.norm(a-centers[i]) for a in points[i]]\n",
    "    min_indices[i] = distances.index(min(distances))\n",
    "print(indices, '\\n', points,'\\n',min_indices)"
   ]
  },
  {
   "cell_type": "code",
   "execution_count": 9,
   "metadata": {},
   "outputs": [
    {
     "name": "stdout",
     "output_type": "stream",
     "text": [
      "[1 8 1 ... 4 0 1] (23947,)\n",
      "Counter({1: 4899, 6: 3164, 9: 2971, 8: 2703, 7: 2688, 5: 1717, 3: 1646, 0: 1514, 4: 1397, 2: 1248})\n"
     ]
    }
   ],
   "source": [
    "import collections\n",
    "print(labels_k,labels_k.shape)\n",
    "collections_k = collections.Counter(labels_k)\n",
    "print(collections_k)"
   ]
  },
  {
   "cell_type": "code",
   "execution_count": 10,
   "metadata": {},
   "outputs": [
    {
     "name": "stdout",
     "output_type": "stream",
     "text": [
      "[[0.21400264200792601, 0.04821664464993395, 0.1261558784676354, 0.058784676354029064, 0.11360634081902246, 0.04821664464993395, 0.12417437252311757, 0.1142668428005284, 0.07661822985468957, 0.07595772787318363], [0.015309246785058175, 0.3996734027352521, 0.010614411104307001, 0.028169014084507043, 0.021637068789548887, 0.05878750765462339, 0.12471933047560727, 0.08471116554398857, 0.1267605633802817, 0.12941416615635845], [0.15625, 0.044070512820512824, 0.2900641025641026, 0.06650641025641026, 0.036057692307692304, 0.03766025641025641, 0.10897435897435898, 0.17467948717948717, 0.047275641025641024, 0.038461538461538464], [0.058930741190765495, 0.07715674362089915, 0.0425273390036452, 0.28068043742405835, 0.07108140947752126, 0.08687727825030377, 0.07108140947752126, 0.12029161603888214, 0.054678007290400975, 0.13669501822600244], [0.12383679312813171, 0.06800286327845383, 0.030780243378668574, 0.09305654974946313, 0.21975662133142448, 0.06370794559770938, 0.07945597709377238, 0.07874015748031496, 0.09448818897637795, 0.1481746599856836], [0.0378567268491555, 0.17064647641234712, 0.03669190448456611, 0.07804309842748981, 0.05998835177635411, 0.22073383808969133, 0.10891089108910891, 0.08270238788584741, 0.09202096680256261, 0.11240535818287711], [0.05214917825537294, 0.19216182048040456, 0.04487989886219975, 0.03666245259165613, 0.0316055625790139, 0.05120101137800253, 0.27970922882427307, 0.10335018963337547, 0.11915297092288243, 0.08912768647281921], [0.06845238095238096, 0.15773809523809523, 0.08668154761904762, 0.078125, 0.036830357142857144, 0.05654761904761905, 0.1134672619047619, 0.23214285714285715, 0.07514880952380952, 0.09486607142857142], [0.0392156862745098, 0.22345541990381057, 0.019237883832778396, 0.030336662967073623, 0.04661487236403995, 0.06992230854605994, 0.13355530891601924, 0.07917129115797263, 0.2341842397336293, 0.12430632630410655], [0.043756311006395154, 0.22248401211713228, 0.013463480309660047, 0.06799057556378324, 0.07472231571861326, 0.06563446650959273, 0.08852238303601481, 0.08986873106698082, 0.10602490743857287, 0.2275328172332548]]\n"
     ]
    }
   ],
   "source": [
    "#generate markov chain model\n",
    "matrix = [[0 for x in range(10)] for y in range(10)] \n",
    "for i in range(len(labels_k)-1):\n",
    "    matrix[labels_k[i]][labels_k[i+1]] += 1\n",
    "    matrix_og = matrix[:]\n",
    "for j in range(10):\n",
    "    matrix[j] = [x / collections_k[j] for x in matrix_og[j]]\n",
    "print(matrix)"
   ]
  },
  {
   "cell_type": "code",
   "execution_count": 11,
   "metadata": {},
   "outputs": [
    {
     "name": "stdout",
     "output_type": "stream",
     "text": [
      "3000 [5, 5, 5, 1, 1, 6, 5, 9, 9, 9, 1, 7, 9, 6, 6, 1, 1, 1, 1, 1, 1, 6, 1, 1, 6, 8, 8, 7, 7, 2, 2, 3, 0, 0, 7, 5, 2, 7, 9, 9, 0, 7, 1, 6, 6, 7, 9, 4, 3, 3, 7, 6, 9, 4, 8, 9, 1, 9, 8, 1, 1, 2, 1, 7, 7, 7, 4, 4, 3, 0, 0, 3, 2, 7, 0, 3, 7, 6, 9, 1, 0, 6, 1, 1, 8, 0, 0, 7, 4, 4, 7, 3, 8, 6, 3, 5, 1, 1, 1, 6, 9, 1, 6, 8, 8, 1, 1, 8, 9, 4, 7, 2, 0, 0, 0, 4, 6, 7, 5, 1, 5, 7, 9, 3, 3, 9, 4, 7, 6, 6, 6, 6, 1, 1, 1, 1, 7, 7, 7, 8, 9, 6, 8, 1, 1, 8, 8, 8, 1, 6, 8, 9, 3, 1, 6, 6, 6, 5, 5, 5, 3, 2, 2, 6, 1, 1, 8, 8, 6, 6, 6, 9, 6, 6, 9, 1, 9, 9, 9, 4, 4, 0, 9, 9, 8, 4, 7, 1, 8, 6, 1, 3, 3, 3, 7, 8, 9, 5, 9, 6, 1, 1, 1, 8, 6, 6, 0, 2, 0, 2, 6, 9, 1, 6, 8, 6, 1, 1, 1, 4, 3, 3, 5, 0, 2, 8, 8, 8, 1, 1, 1, 6, 8, 6, 6, 2, 3, 9, 1, 1, 8, 9, 7, 7, 8, 0, 8, 8, 7, 7, 8, 6, 1, 7, 6, 9, 1, 8, 8, 3, 6, 1, 1, 1, 1, 1, 9, 9, 8, 9, 9, 3, 3, 9, 9, 6, 6, 8, 1, 1, 1, 1, 1, 1, 5, 5, 1, 2, 0, 5, 9, 5, 9, 7, 3, 9, 7, 1, 8, 3, 3, 5, 5, 9, 5, 5, 5, 0, 5, 3, 3, 9, 1, 1, 6, 1, 1, 1, 1, 1, 9, 7, 7, 3, 4, 4, 4, 6, 6, 1, 8, 1, 9, 9, 9, 6, 7, 5, 2, 0, 4, 7, 5, 1, 7, 8, 8, 9, 9, 0, 3, 1, 6, 6, 8, 4, 4, 6, 6, 4, 9, 7, 9, 0, 6, 0, 2, 0, 7, 0, 1, 9, 9, 3, 3, 9, 4, 9, 1, 6, 4, 3, 4, 3, 6, 1, 5, 5, 7, 7, 7, 6, 0, 0, 6, 9, 9, 6, 9, 7, 1, 8, 8, 8, 4, 4, 8, 8, 7, 7, 1, 6, 7, 6, 5, 5, 7, 7, 9, 9, 8, 1, 5, 8, 8, 6, 6, 7, 7, 5, 6, 9, 1, 1, 1, 8, 6, 9, 8, 1, 6, 0, 0, 4, 7, 0, 4, 0, 0, 2, 0, 4, 1, 9, 7, 7, 1, 1, 8, 1, 8, 8, 1, 6, 5, 3, 9, 9, 9, 9, 1, 6, 6, 8, 1, 1, 1, 1, 1, 1, 8, 6, 8, 1, 9, 4, 1, 1, 8, 1, 5, 5, 1, 7, 9, 8, 5, 6, 5, 7, 5, 8, 7, 8, 1, 6, 1, 9, 1, 7, 1, 9, 9, 9, 5, 9, 1, 0, 2, 6, 1, 1, 6, 1, 1, 1, 5, 0, 6, 7, 0, 0, 7, 6, 0, 0, 1, 9, 9, 1, 1, 8, 8, 8, 9, 0, 6, 6, 6, 6, 9, 8, 3, 5, 8, 1, 8, 3, 4, 9, 7, 7, 1, 5, 5, 9, 1, 6, 6, 1, 8, 8, 1, 9, 0, 4, 8, 1, 7, 7, 1, 1, 4, 5, 1, 1, 6, 6, 8, 8, 1, 9, 8, 1, 5, 6, 7, 5, 9, 0, 2, 2, 7, 9, 5, 6, 0, 4, 4, 2, 2, 8, 3, 8, 1, 9, 0, 8, 0, 2, 3, 1, 6, 7, 2, 2, 6, 9, 6, 2, 0, 6, 0, 7, 1, 9, 3, 5, 6, 1, 4, 7, 6, 0, 3, 1, 1, 9, 1, 1, 1, 7, 2, 3, 6, 6, 6, 6, 9, 9, 8, 1, 7, 7, 8, 6, 6, 0, 2, 2, 2, 6, 5, 5, 6, 3, 7, 1, 8, 3, 5, 1, 8, 1, 5, 6, 1, 1, 1, 1, 6, 9, 9, 3, 3, 9, 1, 9, 1, 8, 0, 1, 7, 8, 2, 6, 4, 6, 3, 7, 2, 2, 7, 1, 8, 6, 2, 2, 0, 0, 0, 9, 7, 3, 7, 7, 8, 8, 5, 4, 7, 7, 1, 6, 1, 8, 1, 9, 1, 0, 0, 9, 9, 1, 1, 7, 7, 7, 4, 0, 0, 2, 6, 6, 7, 4, 9, 1, 1, 5, 5, 2, 7, 9, 4, 4, 9, 1, 9, 5, 5, 8, 7, 8, 7, 9, 7, 7, 1, 1, 4, 3, 9, 9, 9, 8, 9, 2, 9, 9, 1, 1, 8, 1, 8, 8, 1, 8, 3, 2, 7, 6, 8, 6, 1, 9, 6, 1, 9, 1, 8, 9, 1, 1, 9, 4, 8, 6, 0, 7, 2, 6, 2, 2, 0, 8, 7, 6, 6, 3, 4, 2, 6, 1, 6, 5, 6, 3, 5, 6, 1, 6, 1, 6, 7, 6, 7, 2, 7, 1, 3, 2, 2, 3, 9, 1, 1, 1, 3, 1, 1, 1, 8, 4, 1, 8, 8, 3, 3, 6, 8, 1, 9, 0, 6, 6, 6, 9, 1, 9, 4, 6, 4, 3, 4, 9, 6, 6, 9, 4, 4, 4, 4, 0, 0, 9, 9, 3, 4, 4, 3, 9, 1, 8, 1, 7, 5, 4, 0, 9, 1, 7, 1, 2, 2, 7, 2, 2, 7, 1, 1, 1, 1, 9, 3, 5, 5, 5, 1, 1, 8, 5, 4, 1, 9, 6, 1, 1, 1, 1, 7, 0, 0, 5, 5, 5, 1, 8, 9, 1, 6, 3, 6, 1, 9, 9, 8, 1, 1, 7, 7, 1, 1, 3, 3, 3, 5, 9, 8, 1, 6, 1, 6, 7, 0, 2, 0, 6, 1, 6, 0, 6, 2, 2, 8, 0, 6, 4, 0, 0, 6, 6, 8, 9, 1, 6, 1, 1, 8, 1, 7, 2, 0, 6, 6, 7, 0, 4, 0, 4, 4, 4, 3, 3, 8, 8, 8, 8, 2, 7, 1, 1, 5, 1, 1, 3, 4, 9, 1, 9, 8, 8, 5, 4, 4, 3, 1, 1, 7, 6, 0, 4, 5, 1, 1, 1, 1, 1, 8, 8, 6, 7, 1, 9, 1, 1, 1, 9, 9, 1, 7, 6, 7, 7, 7, 9, 1, 1, 9, 6, 1, 6, 7, 2, 7, 1, 4, 1, 5, 8, 1, 5, 8, 1, 1, 1, 1, 1, 6, 1, 1, 9, 9, 9, 0, 9, 9, 9, 1, 9, 1, 1, 6, 1, 1, 3, 2, 2, 9, 6, 6, 6, 3, 0, 3, 9, 9, 8, 1, 1, 7, 7, 3, 9, 7, 6, 6, 6, 6, 8, 1, 7, 7, 9, 2, 7, 7, 0, 0, 9, 7, 4, 6, 8, 1, 7, 0, 1, 8, 3, 3, 5, 6, 1, 8, 8, 7, 8, 6, 9, 9, 1, 1, 9, 6, 1, 3, 3, 0, 9, 8, 8, 6, 0, 2, 7, 5, 7, 7, 1, 6, 7, 4, 1, 1, 1, 7, 9, 8, 7, 1, 9, 4, 4, 4, 0, 6, 1, 3, 9, 4, 6, 8, 1, 1, 6, 0, 3, 6, 8, 8, 1, 6, 8, 6, 1, 8, 6, 7, 8, 6, 6, 0, 2, 5, 1, 1, 9, 4, 4, 3, 7, 3, 7, 7, 2, 2, 9, 1, 1, 6, 6, 8, 1, 7, 9, 9, 8, 1, 6, 3, 4, 1, 9, 6, 8, 1, 9, 4, 3, 3, 0, 0, 9, 6, 7, 3, 3, 3, 3, 3, 3, 3, 5, 4, 9, 1, 5, 2, 7, 7, 0, 2, 9, 8, 6, 1, 6, 6, 6, 6, 1, 1, 1, 8, 1, 2, 6, 9, 9, 6, 6, 6, 0, 6, 6, 0, 0, 4, 0, 9, 1, 1, 1, 8, 9, 1, 5, 9, 8, 8, 5, 5, 0, 4, 9, 9, 5, 4, 3, 4, 6, 8, 6, 7, 3, 3, 9, 6, 1, 1, 6, 1, 6, 2, 7, 5, 2, 0, 7, 7, 9, 4, 4, 0, 8, 1, 8, 8, 8, 1, 1, 5, 7, 8, 7, 8, 9, 6, 0, 4, 4, 7, 9, 6, 1, 5, 5, 1, 1, 1, 1, 1, 8, 1, 3, 9, 9, 9, 7, 7, 9, 1, 6, 2, 8, 1, 1, 1, 3, 8, 1, 1, 8, 6, 0, 7, 1, 8, 9, 7, 1, 7, 5, 4, 4, 4, 8, 9, 7, 7, 8, 7, 0, 2, 2, 6, 6, 6, 8, 6, 6, 1, 6, 7, 7, 5, 5, 4, 2, 3, 3, 0, 6, 6, 1, 4, 0, 1, 1, 9, 6, 6, 1, 1, 1, 9, 9, 1, 3, 8, 6, 8, 1, 1, 1, 1, 1, 8, 4, 4, 0, 8, 7, 3, 7, 1, 3, 4, 0, 1, 1, 6, 1, 3, 3, 5, 1, 6, 5, 1, 6, 6, 1, 9, 0, 0, 4, 4, 8, 9, 3, 9, 4, 4, 4, 7, 8, 3, 9, 1, 5, 5, 1, 1, 8, 6, 6, 8, 8, 1, 6, 9, 4, 4, 0, 2, 1, 8, 7, 0, 2, 2, 2, 2, 1, 6, 0, 4, 9, 9, 1, 3, 5, 3, 0, 4, 9, 1, 1, 9, 5, 3, 5, 2, 1, 1, 7, 4, 8, 4, 3, 3, 9, 5, 5, 2, 3, 3, 7, 1, 6, 1, 1, 1, 7, 7, 8, 8, 5, 8, 8, 8, 1, 3, 5, 5, 5, 3, 5, 7, 7, 7, 6, 1, 1, 6, 1, 5, 5, 6, 1, 5, 9, 3, 4, 4, 3, 8, 6, 5, 1, 1, 1, 6, 6, 6, 6, 4, 6, 6, 9, 9, 5, 5, 5, 1, 8, 8, 8, 8, 4, 4, 4, 8, 9, 1, 9, 3, 2, 4, 4, 8, 1, 1, 1, 7, 1, 8, 8, 7, 2, 7, 9, 1, 6, 1, 8, 9, 1, 1, 1, 6, 6, 1, 1, 9, 4, 7, 6, 1, 1, 5, 7, 0, 3, 3, 3, 3, 2, 0, 2, 6, 4, 2, 9, 8, 1, 3, 5, 1, 7, 1, 1, 2, 3, 6, 7, 1, 6, 6, 9, 7, 1, 9, 1, 5, 1, 1, 1, 6, 9, 1, 1, 8, 4, 6, 6, 3, 3, 0, 4, 0, 4, 9, 1, 9, 1, 1, 6, 6, 0, 2, 2, 2, 7, 0, 8, 9, 0, 4, 2, 2, 6, 1, 9, 1, 0, 3, 5, 5, 5, 3, 7, 7, 7, 2, 0, 0, 7, 5, 9, 1, 9, 3, 7, 7, 1, 8, 1, 8, 9, 8, 8, 8, 8, 3, 1, 4, 1, 9, 9, 6, 9, 9, 1, 1, 1, 9, 9, 3, 7, 9, 6, 2, 0, 6, 3, 1, 5, 4, 1, 1, 7, 2, 0, 4, 0, 4, 4, 0, 4, 9, 6, 3, 5, 3, 4, 4, 6, 6, 6, 8, 1, 9, 3, 2, 2, 1, 1, 6, 8, 8, 9, 1, 7, 3, 1, 7, 7, 2, 2, 7, 0, 2, 2, 6, 5, 2, 4, 0, 0, 8, 1, 1, 8, 6, 1, 1, 1, 9, 1, 8, 4, 8, 5, 8, 9, 1, 6, 4, 4, 4, 3, 2, 7, 1, 1, 1, 9, 7, 7, 9, 1, 9, 1, 7, 3, 6, 5, 1, 9, 3, 3, 3, 0, 2, 7, 4, 9, 1, 1, 7, 9, 6, 1, 7, 4, 5, 5, 4, 9, 9, 4, 7, 7, 1, 1, 1, 9, 1, 6, 1, 1, 1, 1, 6, 8, 9, 9, 1, 1, 3, 0, 6, 2, 2, 2, 0, 0, 4, 0, 0, 9, 1, 9, 8, 9, 1, 3, 9, 1, 1, 1, 9, 9, 8, 9, 0, 2, 7, 8, 8, 1, 5, 7, 6, 8, 7, 1, 1, 9, 9, 6, 3, 3, 8, 9, 5, 7, 7, 8, 8, 1, 8, 3, 3, 3, 9, 9, 6, 9, 6, 6, 9, 2, 2, 0, 3, 5, 5, 6, 1, 1, 3, 3, 8, 7, 6, 7, 1, 8, 2, 2, 6, 7, 9, 6, 2, 0, 7, 7, 7, 6, 6, 8, 1, 3, 3, 9, 8, 1, 6, 6, 1, 1, 9, 1, 9, 8, 1, 6, 7, 8, 9, 1, 8, 9, 5, 5, 3, 0, 9, 0, 5, 7, 5, 4, 4, 8, 6, 4, 3, 6, 7, 3, 3, 3, 5, 5, 9, 6, 8, 6, 3, 2, 7, 7, 1, 7, 2, 6, 1, 9, 4, 9, 3, 5, 1, 1, 1, 6, 8, 1, 6, 5, 8, 8, 7, 0, 8, 8, 6, 6, 1, 6, 1, 8, 1, 1, 8, 1, 1, 1, 1, 8, 6, 7, 1, 6, 6, 0, 4, 8, 8, 4, 3, 3, 9, 1, 1, 6, 6, 5, 5, 5, 1, 9, 1, 1, 1, 1, 3, 9, 0, 0, 0, 4, 0, 7, 7, 2, 9, 1, 1, 1, 9, 1, 9, 7, 0, 7, 3, 3, 7, 1, 1, 1, 1, 1, 0, 9, 4, 3, 3, 3, 7, 7, 4, 8, 5, 5, 5, 8, 0, 7, 1, 1, 1, 1, 1, 7, 5, 1, 9, 6, 5, 0, 5, 5, 1, 1, 6, 7, 1, 5, 7, 8, 7, 1, 8, 1, 4, 3, 9, 8, 8, 1, 9, 1, 1, 1, 9, 1, 1, 7, 9, 1, 7, 1, 6, 8, 1, 1, 6, 1, 1, 1, 1, 9, 3, 4, 9, 5, 7, 4, 1, 1, 1, 1, 1, 1, 1, 1, 1, 1, 8, 8, 9, 9, 6, 4, 4, 3, 4, 8, 6, 9, 9, 7, 7, 7, 1, 8, 8, 6, 8, 3, 0, 9, 4, 4, 8, 7, 9, 1, 6, 7, 1, 5, 5, 5, 5, 6, 6, 6, 7, 5, 0, 2, 8, 7, 7, 6, 1, 1, 5, 2, 1, 7, 0, 2, 9, 7, 3, 6, 8, 3, 7, 8, 8, 9, 6, 6, 3, 9, 6, 6, 1, 1, 1, 5, 5, 7, 7, 5, 9, 7, 7, 3, 8, 4, 1, 1, 5, 1, 1, 5, 3, 9, 6, 2, 2, 2, 7, 0, 0, 4, 7, 3, 7, 9, 0, 2, 2, 8, 6, 6, 5, 8, 1, 1, 1, 7, 7, 9, 1, 1, 7, 6, 1, 5, 3, 9, 4, 0, 0, 7, 0, 0, 2, 5, 5, 4, 0, 2, 9, 1, 3, 3, 6, 9, 6, 6, 0, 4, 4, 0, 6, 4, 3, 3, 3, 0, 1, 1, 5, 3, 3, 3, 9, 6, 1, 9, 1, 7, 6, 9, 8, 8, 9, 8, 8, 9, 5, 5, 0, 0, 7, 2, 2, 2, 4, 6, 1, 1, 7, 1, 7, 1, 9, 8, 1, 1, 1, 7, 7, 6, 8, 6, 1, 9, 6, 3, 6, 6, 7, 6, 6, 8, 8, 1, 9, 9, 9, 7, 5, 8, 1, 1, 1, 2, 7, 2, 6, 1, 7, 7, 1, 7, 0, 0, 8, 7, 7, 6, 8, 1, 4, 6, 6, 9, 6, 6, 6, 1, 7, 2, 2, 7, 1, 6, 8, 8, 7, 4, 1, 1, 1, 6, 6, 1, 9, 6, 1, 1, 8, 3, 8, 9, 9, 9, 7, 5, 5, 1, 1, 9, 1, 9, 1, 1, 1, 1, 5, 5, 8, 9, 5, 4, 8, 8, 5, 4, 6, 1, 9, 0, 6, 1, 1, 1, 1, 1, 7, 2, 7, 7, 2, 0, 0, 9, 7, 6, 1, 6, 1, 5, 8, 5, 0, 7, 9, 7, 7, 9, 1, 8, 1, 6, 6, 4, 9, 9, 1, 9, 4, 7, 4, 4, 4, 7, 3, 1, 9, 0, 0, 8, 5, 1, 1, 9, 6, 8, 5, 9, 6, 7, 2, 2, 2, 2, 2, 0, 4, 3, 6, 6, 3, 6, 1, 9, 9, 1, 6, 9, 5, 3, 7, 7, 6, 1, 1, 9, 3, 3, 3, 7, 4, 1, 9, 0, 8, 8, 8, 9, 9, 5, 1, 1, 9, 7, 1, 7, 3, 3, 3, 7, 0, 7, 6, 6, 1, 1, 8, 7, 1, 9, 9, 1, 4, 6, 7, 7, 1, 1, 9, 9, 5, 1, 1, 6, 1, 4, 6, 2, 2, 0, 1, 7, 1, 7, 6, 6, 3, 9, 1, 8, 6, 1, 6, 9, 2, 7, 1, 9, 6, 6, 6, 6, 5, 7, 1, 1, 9, 0, 5, 4, 0, 2, 5, 1, 5, 3, 2, 2, 0, 8, 7, 5, 1, 8, 8, 7, 2, 2, 2, 8, 7, 7, 7, 1, 7, 4, 6, 6, 6, 7, 7, 7, 1, 1, 7, 3, 3, 0, 0, 3, 9, 8, 9, 5, 5, 5, 5, 5, 7, 6, 2, 2, 8, 7, 7, 7, 7, 9, 6, 8, 8, 5, 2, 9, 9, 9, 1, 8, 8, 1, 8, 5, 8, 0, 3, 3, 4, 4, 5, 2, 7, 2, 2, 8, 9, 1, 9, 9, 3, 5, 3, 5, 8, 1, 7, 3, 3, 3, 9, 7, 2, 7, 9, 3, 7, 1, 6, 8, 5, 1, 0, 0, 7, 1, 1, 1, 9, 7, 0, 3, 3, 9, 1, 1, 6, 5, 5, 9, 6, 1, 7, 2, 2, 6, 1, 8, 9, 7, 7, 2, 4, 4, 9, 5, 9, 6, 9, 8, 6, 5, 6, 9, 1, 1, 6, 1, 1, 6, 6, 1, 7, 6, 4, 4, 1, 1, 7, 3, 6, 5, 9, 3, 7, 0, 2, 2, 5, 5, 5, 7, 3, 1, 1, 7, 7, 8, 8, 0, 8, 5, 9, 1, 8, 6, 1, 1, 3, 3, 0, 0, 4, 9, 5, 2, 7, 4, 8, 1, 7, 2, 4, 4, 0, 8, 8, 8, 8, 8, 0, 0, 2, 2, 3, 6, 7, 9, 4, 4, 6, 4, 9, 3, 3, 4, 8, 6, 6, 8, 8, 0, 6, 6, 8, 6, 1, 6, 2, 7, 7, 9, 7, 9, 4, 1, 9, 6, 1, 1, 1, 7, 3, 9, 9, 5, 9, 9, 9, 9, 6, 6, 6, 7]\n"
     ]
    }
   ],
   "source": [
    "#generate markov chain for 30 seconds\n",
    "markov_generated = [5] + [0] * 2999\n",
    "for i in range(len(markov_generated)):\n",
    "    if i < 2999:\n",
    "        prob_generated = np.random.random_sample()\n",
    "        prob_comp,next_element = matrix[markov_generated[i]][0],0\n",
    "        while(prob_generated > prob_comp):\n",
    "            next_element+=1\n",
    "            prob_comp += matrix[markov_generated[i]][next_element]\n",
    "        markov_generated[i+1] = next_element\n",
    "print(len(markov_generated),markov_generated)"
   ]
  },
  {
   "cell_type": "code",
   "execution_count": 12,
   "metadata": {},
   "outputs": [],
   "source": [
    "indices_sec = {0: 1184, 1: 4256, 2: 216, 3: 1179, 4: 832, 5: 821, 6: 2026, 7: 408, 8: 1311, 9: 2541}\n",
    "windows_generated = np.array([])\n",
    "# print(output_t.shape)\n",
    "for i in range(3000):\n",
    "    window_to_concat = samples[indices_sec[markov_generated[i]]*220 : (indices_sec[markov_generated[i]]+1)*220 ]\n",
    "    windows_generated = np.append(window_to_concat,windows_generated)\n",
    "windows_generated = windows_generated.astype('float32') #Important for fitting the wav standard"
   ]
  },
  {
   "cell_type": "code",
   "execution_count": 13,
   "metadata": {},
   "outputs": [],
   "source": [
    "import librosa\n",
    "librosa.output.write_wav(\"BeeSound_Markov.wav\", windows_generated, sample_rate, norm=True)"
   ]
  }
 ],
 "metadata": {
  "kernelspec": {
   "display_name": "Python 3",
   "language": "python",
   "name": "python3"
  },
  "language_info": {
   "codemirror_mode": {
    "name": "ipython",
    "version": 3
   },
   "file_extension": ".py",
   "mimetype": "text/x-python",
   "name": "python",
   "nbconvert_exporter": "python",
   "pygments_lexer": "ipython3",
   "version": "3.7.1"
  }
 },
 "nbformat": 4,
 "nbformat_minor": 2
}

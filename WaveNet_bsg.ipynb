{
 "cells": [
  {
   "cell_type": "code",
   "execution_count": 1,
   "metadata": {},
   "outputs": [],
   "source": [
    "import tensorflow as tf\n",
    "import wavenet\n",
    "from pydub import AudioSegment"
   ]
  },
  {
   "cell_type": "code",
   "execution_count": 9,
   "metadata": {},
   "outputs": [],
   "source": [
    "import numpy as np\n",
    "import matplotlib.pyplot as plt\n",
    "import matplotlib.style as ms\n",
    "ms.use('seaborn-muted')\n",
    "%matplotlib inline\n",
    "import IPython.display\n",
    "import librosa\n",
    "import librosa.display"
   ]
  },
  {
   "cell_type": "code",
   "execution_count": 20,
   "metadata": {},
   "outputs": [],
   "source": [
    "audio_path = 'C:/Users/Jiachen Tu/Desktop/waggleNet/audio_i.mp3'\n",
    "\n",
    "audio_i, sr = librosa.load(audio_path)"
   ]
  },
  {
   "cell_type": "code",
   "execution_count": 19,
   "metadata": {},
   "outputs": [],
   "source": [
    "sound = audio_i\n",
    "i_startpt = int((11.0/60)*sound.size)\n",
    "i_endpt = int((13.0/60)*sound.size)\n",
    "audio_i_i = sound[i_startpt:i_endpt]\n",
    "#abnormal sound(11:00 -- 13:00)\n",
    "\n",
    "n_startpt = int((23.0/60)*sound.size)\n",
    "n_endpt = int((26.0/60)*sound.size)\n",
    "audio_i_n = sound[n_startpt:n_endpt]\n",
    "#normal background(23:00 -- 26:00)"
   ]
  },
  {
   "cell_type": "code",
   "execution_count": 35,
   "metadata": {},
   "outputs": [
    {
     "data": {
      "text/plain": [
       "[<matplotlib.lines.Line2D at 0x273f14399b0>]"
      ]
     },
     "execution_count": 35,
     "metadata": {},
     "output_type": "execute_result"
    },
    {
     "data": {
      "image/png": "[encoded data removed]",
      "text/plain": [
       "<Figure size 432x288 with 1 Axes>"
      ]
     },
     "metadata": {
      "needs_background": "light"
     },
     "output_type": "display_data"
    }
   ],
   "source": [
    "#plotting \n",
    "from __future__ import division\n",
    "import numpy as np\n",
    "import matplotlib.pyplot as plt\n",
    "\n",
    "data_i = audio_i_i\n",
    "ps_i = np.abs(np.fft.fft(data_i))**2\n",
    "\n",
    "data_n = audio_i_n\n",
    "ps_n = np.abs(np.fft.fft(data_n))**2\n",
    "\n",
    "time_step = 1 / sr\n",
    "freqs = np.fft.fftfreq(data_i.size, time_step)\n",
    "idx = np.argsort(freqs)\n",
    "idx_st = int(idx.size*(9.5/20))\n",
    "idx_end = int(idx.size*(10.5/20))\n",
    "idx_n = idx[idx_st:idx_end]\n",
    "plt.plot(freqs[idx_n], ps_i[idx_n])\n",
    "plt.legend\n",
    "plt.plot(freqs[idx_n], ps_n[idx_n])"
   ]
  },
  {
   "cell_type": "code",
   "execution_count": 45,
   "metadata": {},
   "outputs": [
    {
     "data": {
      "text/plain": [
       "(2645988,)"
      ]
     },
     "execution_count": 45,
     "metadata": {},
     "output_type": "execute_result"
    }
   ],
   "source": [
    "audio_i_i.shape"
   ]
  },
  {
   "cell_type": "code",
   "execution_count": 50,
   "metadata": {},
   "outputs": [],
   "source": [
    "#wav output\n",
    "librosa.output.write_wav(\"C:/Users/Jiachen Tu/Desktop/waggleNet/audio_i_unnorm.wav\", audio_i_i, sr)"
   ]
  },
  {
   "cell_type": "code",
   "execution_count": 51,
   "metadata": {},
   "outputs": [],
   "source": [
    "#amplitude normalized version stored at \"audio_i_norm\"\n",
    "librosa.output.write_wav(\"C:/Users/Jiachen Tu/Desktop/waggleNet/audio_i_norm.wav\", audio_i_i, sr, norm=True)"
   ]
  },
  {
   "cell_type": "code",
   "execution_count": null,
   "metadata": {},
   "outputs": [],
   "source": []
  }
 ],
 "metadata": {
  "kernelspec": {
   "display_name": "Python 3",
   "language": "python",
   "name": "python3"
  },
  "language_info": {
   "codemirror_mode": {
    "name": "ipython",
    "version": 3
   },
   "file_extension": ".py",
   "mimetype": "text/x-python",
   "name": "python",
   "nbconvert_exporter": "python",
   "pygments_lexer": "ipython3",
   "version": "3.7.1"
  }
 },
 "nbformat": 4,
 "nbformat_minor": 2
}
